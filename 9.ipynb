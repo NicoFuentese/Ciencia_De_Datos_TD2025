{
  "nbformat": 4,
  "nbformat_minor": 0,
  "metadata": {
    "colab": {
      "provenance": [],
      "authorship_tag": "ABX9TyNr9/9RIZcGGrRVDOPK/2Mr",
      "include_colab_link": true
    },
    "kernelspec": {
      "name": "python3",
      "display_name": "Python 3"
    },
    "language_info": {
      "name": "python"
    }
  },
  "cells": [
    {
      "cell_type": "markdown",
      "metadata": {
        "id": "view-in-github",
        "colab_type": "text"
      },
      "source": [
        "<a href=\"https://colab.research.google.com/github/NicoFuentese/Ciencia_De_Datos_TD2025/blob/main/9.ipynb\" target=\"_parent\"><img src=\"https://colab.research.google.com/assets/colab-badge.svg\" alt=\"Open In Colab\"/></a>"
      ]
    },
    {
      "cell_type": "code",
      "execution_count": null,
      "metadata": {
        "colab": {
          "base_uri": "https://localhost:8080/",
          "height": 219
        },
        "id": "7CIHsFfvDjyK",
        "outputId": "b12dec9a-8886-4292-f184-f18ba8bc461e"
      },
      "outputs": [
        {
          "output_type": "execute_result",
          "data": {
            "text/plain": [
              "<pyspark.sql.session.SparkSession at 0x79faa87764e0>"
            ],
            "text/html": [
              "\n",
              "            <div>\n",
              "                <p><b>SparkSession - in-memory</b></p>\n",
              "                \n",
              "        <div>\n",
              "            <p><b>SparkContext</b></p>\n",
              "\n",
              "            <p><a href=\"http://c6003385c285:4040\">Spark UI</a></p>\n",
              "\n",
              "            <dl>\n",
              "              <dt>Version</dt>\n",
              "                <dd><code>v3.5.1</code></dd>\n",
              "              <dt>Master</dt>\n",
              "                <dd><code>local[*]</code></dd>\n",
              "              <dt>AppName</dt>\n",
              "                <dd><code>MigracionesSpark</code></dd>\n",
              "            </dl>\n",
              "        </div>\n",
              "        \n",
              "            </div>\n",
              "        "
            ]
          },
          "metadata": {},
          "execution_count": 1
        }
      ],
      "source": [
        "# === 0) Instalación y arranque de Spark en Colab ===\n",
        "# (Si ya está instalado, puedes omitir)\n",
        "!pip -q install pyspark==3.5.1\n",
        "\n",
        "from pyspark.sql import SparkSession\n",
        "spark = SparkSession.builder.appName(\"MigracionesSpark\").getOrCreate()\n",
        "\n",
        "spark"
      ]
    },
    {
      "cell_type": "code",
      "source": [
        "# === 1) Carga de datos, RDD y DataFrame ===\n",
        "import os\n",
        "from pyspark.sql.types import (StructType, StructField, IntegerType, StringType, DoubleType, LongType)\n",
        "\n",
        "CSV_PATH = \"migraciones.csv\"  # Subir a Colab o dejar en la raíz si ya está\n",
        "# Si usas Drive, monta y ajusta CSV_PATH\n",
        "\n",
        "# Esquema explícito (recomendado para datasets grandes)\n",
        "schema = StructType([\n",
        "    StructField(\"ID\", IntegerType(), True),\n",
        "    StructField(\"Origen\", StringType(), True),\n",
        "    StructField(\"Destino\", StringType(), True),\n",
        "    StructField(\"Año\", IntegerType(), True),\n",
        "    StructField(\"Razón\", StringType(), True),\n",
        "    StructField(\"PIB_Origen\", DoubleType(), True),\n",
        "    StructField(\"PIB_Destino\", DoubleType(), True),\n",
        "    StructField(\"Tasa_Desempleo_Origen\", DoubleType(), True),\n",
        "    StructField(\"Tasa_Desempleo_Destino\", DoubleType(), True),\n",
        "    StructField(\"Nivel_Educativo_Origen\", DoubleType(), True),\n",
        "    StructField(\"Nivel_Educativo_Destino\", DoubleType(), True),\n",
        "    StructField(\"Población_Origen\", LongType(), True),\n",
        "    StructField(\"Población_Destino\", LongType(), True),\n",
        "])\n",
        "\n",
        "df = spark.read.csv(CSV_PATH, header=True, schema=schema)\n",
        "\n",
        "# RDD subyacente\n",
        "rdd = df.rdd\n",
        "\n",
        "print(\"Primeras filas (DataFrame):\")\n",
        "df.show(5, truncate=False)\n",
        "\n",
        "print(\"\\nEsquema:\")\n",
        "df.printSchema()\n",
        "\n",
        "print(\"\\nEstadísticas descriptivas (numéricas):\")\n",
        "df.describe().show(truncate=False)"
      ],
      "metadata": {
        "colab": {
          "base_uri": "https://localhost:8080/"
        },
        "id": "TL-xhXaxEDlV",
        "outputId": "58e7e806-ec12-4d16-8437-fe01510c06e8"
      },
      "execution_count": null,
      "outputs": [
        {
          "output_type": "stream",
          "name": "stdout",
          "text": [
            "Primeras filas (DataFrame):\n",
            "+---+---------+---------------+----+---------+----------+-----------+---------------------+----------------------+----------------------+-----------------------+----------------+-----------------+\n",
            "|ID |Origen   |Destino        |Año |Razón    |PIB_Origen|PIB_Destino|Tasa_Desempleo_Origen|Tasa_Desempleo_Destino|Nivel_Educativo_Origen|Nivel_Educativo_Destino|Población_Origen|Población_Destino|\n",
            "+---+---------+---------------+----+---------+----------+-----------+---------------------+----------------------+----------------------+-----------------------+----------------+-----------------+\n",
            "|1  |México   |EEUU           |2015|Económica|8900.0    |62000.0    |5.2                  |3.8                   |8.5                   |12.3                   |125000000       |331000000        |\n",
            "|2  |Siria    |Alemania       |2016|Conflicto|2500.0    |45000.0    |15.4                 |4.5                   |6.2                   |14.1                   |18000000        |83000000         |\n",
            "|3  |Venezuela|Colombia       |2017|Política |6000.0    |15000.0    |14.8                 |10.1                  |9.3                   |11.0                   |28000000        |50000000         |\n",
            "|4  |India    |Emiratos Árabes|2018|Laboral  |2200.0    |43000.0    |7.2                  |1.8                   |7.8                   |13.0                   |1380000000      |9800000          |\n",
            "|5  |Argentina|España         |2019|Económica|10000.0   |34000.0    |9.5                  |13.2                  |11.5                  |13.8                   |45000000        |47000000         |\n",
            "+---+---------+---------------+----+---------+----------+-----------+---------------------+----------------------+----------------------+-----------------------+----------------+-----------------+\n",
            "\n",
            "\n",
            "Esquema:\n",
            "root\n",
            " |-- ID: integer (nullable = true)\n",
            " |-- Origen: string (nullable = true)\n",
            " |-- Destino: string (nullable = true)\n",
            " |-- Año: integer (nullable = true)\n",
            " |-- Razón: string (nullable = true)\n",
            " |-- PIB_Origen: double (nullable = true)\n",
            " |-- PIB_Destino: double (nullable = true)\n",
            " |-- Tasa_Desempleo_Origen: double (nullable = true)\n",
            " |-- Tasa_Desempleo_Destino: double (nullable = true)\n",
            " |-- Nivel_Educativo_Origen: double (nullable = true)\n",
            " |-- Nivel_Educativo_Destino: double (nullable = true)\n",
            " |-- Población_Origen: long (nullable = true)\n",
            " |-- Población_Destino: long (nullable = true)\n",
            "\n",
            "\n",
            "Estadísticas descriptivas (numéricas):\n",
            "+-------+------------------+---------+--------+------------------+---------+------------------+------------------+---------------------+----------------------+----------------------+-----------------------+-------------------+-------------------+\n",
            "|summary|ID                |Origen   |Destino |Año               |Razón    |PIB_Origen        |PIB_Destino       |Tasa_Desempleo_Origen|Tasa_Desempleo_Destino|Nivel_Educativo_Origen|Nivel_Educativo_Destino|Población_Origen   |Población_Destino  |\n",
            "+-------+------------------+---------+--------+------------------+---------+------------------+------------------+---------------------+----------------------+----------------------+-----------------------+-------------------+-------------------+\n",
            "|count  |5                 |5        |5       |5                 |5        |5                 |5                 |5                    |5                     |5                     |5                      |5                  |5                  |\n",
            "|mean   |3.0               |NULL     |NULL    |2017.0            |NULL     |5920.0            |39800.0           |10.420000000000002   |6.68                  |8.66                  |12.84                  |3.192E8            |1.0416E8           |\n",
            "|stddev |1.5811388300841898|NULL     |NULL    |1.5811388300841898|NULL     |3573.0938974507794|17166.828478201787|4.54004405264971     |4.771477758514651     |1.9552493447128425    |1.2461942063739502     |5.944986963820863E8|1.294300119755847E8|\n",
            "|min    |1                 |Argentina|Alemania|2015              |Conflicto|2200.0            |15000.0           |5.2                  |1.8                   |6.2                   |11.0                   |18000000           |9800000            |\n",
            "|max    |5                 |Venezuela|España  |2019              |Política |10000.0           |62000.0           |15.4                 |13.2                  |11.5                  |14.1                   |1380000000         |331000000          |\n",
            "+-------+------------------+---------+--------+------------------+---------+------------------+------------------+---------------------+----------------------+----------------------+-----------------------+-------------------+-------------------+\n",
            "\n"
          ]
        }
      ]
    },
    {
      "cell_type": "code",
      "source": [
        "# === 2) Procesamiento con RDDs: transformaciones y acciones ===\n",
        "# filter: mantener registros del año >= 2015 y <= 2022 (por ejemplo)\n",
        "rdd_filtrado = rdd.filter(lambda row: row.Año is not None and 2015 <= row.Año <= 2022)\n",
        "\n",
        "# map: proyectar a (Origen, Destino, Razón)\n",
        "rdd_mapeado = rdd_filtrado.map(lambda row: (row.Origen, row.Destino, row.Razón))\n",
        "\n",
        "# flatMap: separar palabras de la razón (para ejemplo)\n",
        "rdd_razon_palabras = rdd_filtrado.flatMap(lambda row: row.Razón.split())\n",
        "\n",
        "# Acciones\n",
        "print(\"Cantidad total de registros:\", rdd.count())\n",
        "print(\"Cantidad tras filtro (2015-2022):\", rdd_filtrado.count())\n",
        "\n",
        "print(\"Ejemplo .take:\")\n",
        "print(rdd_mapeado.take(5))\n",
        "\n",
        "print(\"Frecuencia de palabras en Razón (top 10):\")\n",
        "from collections import Counter\n",
        "cont = Counter(rdd_razon_palabras.collect())\n",
        "print(cont.most_common(10))"
      ],
      "metadata": {
        "colab": {
          "base_uri": "https://localhost:8080/"
        },
        "id": "_jW7ubZyEPYC",
        "outputId": "a0b7ef4f-5f4c-44b7-bd90-8dde29f772cc"
      },
      "execution_count": null,
      "outputs": [
        {
          "output_type": "stream",
          "name": "stdout",
          "text": [
            "Cantidad total de registros: 5\n",
            "Cantidad tras filtro (2015-2022): 5\n",
            "Ejemplo .take:\n",
            "[('México', 'EEUU', 'Económica'), ('Siria', 'Alemania', 'Conflicto'), ('Venezuela', 'Colombia', 'Política'), ('India', 'Emiratos Árabes', 'Laboral'), ('Argentina', 'España', 'Económica')]\n",
            "Frecuencia de palabras en Razón (top 10):\n",
            "[('Económica', 2), ('Conflicto', 1), ('Política', 1), ('Laboral', 1)]\n"
          ]
        }
      ]
    },
    {
      "cell_type": "code",
      "source": [
        "# === DataFrames: filtros, agregaciones, ordenamientos y escritura Parquet ===\n",
        "from pyspark.sql import functions as F\n",
        "\n",
        "# Filtro: migraciones económicas recientes\n",
        "df_econ = df.filter((F.col(\"Razón\") == \"Económica\") & (F.col(\"Año\") >= 2015))\n",
        "df_econ.show(5, truncate=False)\n",
        "\n",
        "# Agregación: top países de origen por conteo\n",
        "origen_top = (df.groupBy(\"Origen\")\n",
        "                .agg(F.count(\"*\").alias(\"Migraciones\"))\n",
        "                .orderBy(F.desc(\"Migraciones\")))\n",
        "origen_top.show(10, truncate=False)\n",
        "\n",
        "# Agregación: top destinos por conteo\n",
        "destino_top = (df.groupBy(\"Destino\")\n",
        "                 .agg(F.count(\"*\").alias(\"Migraciones\"))\n",
        "                 .orderBy(F.desc(\"Migraciones\")))\n",
        "destino_top.show(10, truncate=False)\n",
        "\n",
        "# Agregación: razones más frecuentes\n",
        "razon_top = (df.groupBy(\"Razón\")\n",
        "               .agg(F.count(\"*\").alias(\"Frecuencia\"))\n",
        "               .orderBy(F.desc(\"Frecuencia\")))\n",
        "razon_top.show(truncate=False)\n",
        "\n",
        "# Escritura en Parquet (carpeta de salida)\n",
        "out_dir = \"salidas_parquet\"\n",
        "(origen_top.write.mode(\"overwrite\").parquet(f\"{out_dir}/origen_top.parquet\"))\n",
        "(destino_top.write.mode(\"overwrite\").parquet(f\"{out_dir}/destino_top.parquet\"))\n",
        "(razon_top.write.mode(\"overwrite\").parquet(f\"{out_dir}/razon_top.parquet\"))\n",
        "\n",
        "print(\"Parquet escrito en:\", out_dir)"
      ],
      "metadata": {
        "colab": {
          "base_uri": "https://localhost:8080/"
        },
        "id": "3gpIF6KkESRi",
        "outputId": "604fc404-58b6-47ae-b6bd-8583c2220e70"
      },
      "execution_count": null,
      "outputs": [
        {
          "output_type": "stream",
          "name": "stdout",
          "text": [
            "+---+---------+-------+----+---------+----------+-----------+---------------------+----------------------+----------------------+-----------------------+----------------+-----------------+\n",
            "|ID |Origen   |Destino|Año |Razón    |PIB_Origen|PIB_Destino|Tasa_Desempleo_Origen|Tasa_Desempleo_Destino|Nivel_Educativo_Origen|Nivel_Educativo_Destino|Población_Origen|Población_Destino|\n",
            "+---+---------+-------+----+---------+----------+-----------+---------------------+----------------------+----------------------+-----------------------+----------------+-----------------+\n",
            "|1  |México   |EEUU   |2015|Económica|8900.0    |62000.0    |5.2                  |3.8                   |8.5                   |12.3                   |125000000       |331000000        |\n",
            "|5  |Argentina|España |2019|Económica|10000.0   |34000.0    |9.5                  |13.2                  |11.5                  |13.8                   |45000000        |47000000         |\n",
            "+---+---------+-------+----+---------+----------+-----------+---------------------+----------------------+----------------------+-----------------------+----------------+-----------------+\n",
            "\n",
            "+---------+-----------+\n",
            "|Origen   |Migraciones|\n",
            "+---------+-----------+\n",
            "|Argentina|1          |\n",
            "|Siria    |1          |\n",
            "|India    |1          |\n",
            "|Venezuela|1          |\n",
            "|México   |1          |\n",
            "+---------+-----------+\n",
            "\n",
            "+---------------+-----------+\n",
            "|Destino        |Migraciones|\n",
            "+---------------+-----------+\n",
            "|España         |1          |\n",
            "|Emiratos Árabes|1          |\n",
            "|Alemania       |1          |\n",
            "|EEUU           |1          |\n",
            "|Colombia       |1          |\n",
            "+---------------+-----------+\n",
            "\n",
            "+---------+----------+\n",
            "|Razón    |Frecuencia|\n",
            "+---------+----------+\n",
            "|Económica|2         |\n",
            "|Política |1         |\n",
            "|Conflicto|1         |\n",
            "|Laboral  |1         |\n",
            "+---------+----------+\n",
            "\n",
            "Parquet escrito en: salidas_parquet\n"
          ]
        }
      ]
    },
    {
      "cell_type": "code",
      "source": [
        "# === 3) Spark SQL: registro de vista y consultas ===\n",
        "df.createOrReplaceTempView(\"migraciones\")\n",
        "\n",
        "# Principales países de origen y destino\n",
        "sql_origen = spark.sql('''\n",
        "SELECT Origen, COUNT(*) AS Migraciones\n",
        "FROM migraciones\n",
        "GROUP BY Origen\n",
        "ORDER BY Migraciones DESC\n",
        "LIMIT 10\n",
        "''')\n",
        "sql_origen.show(truncate=False)\n",
        "\n",
        "sql_destino = spark.sql('''\n",
        "SELECT Destino, COUNT(*) AS Migraciones\n",
        "FROM migraciones\n",
        "GROUP BY Destino\n",
        "ORDER BY Migraciones DESC\n",
        "LIMIT 10\n",
        "''')\n",
        "sql_destino.show(truncate=False)\n",
        "\n",
        "# Razones de migración por \"región\": si no hay región, ofrecemos un mapeo simple de ejemplo.\n",
        "# Puedes editar el diccionario para tu dataset real.\n",
        "from pyspark.sql.types import StringType\n",
        "from pyspark.sql.functions import udf\n",
        "\n",
        "region_map = {\n",
        "    \"México\": \"América Latina\", \"EEUU\": \"Norteamérica\",\n",
        "    \"Siria\": \"Asia Occidental\", \"Alemania\": \"Europa\",\n",
        "    \"Venezuela\": \"América Latina\", \"Colombia\": \"América Latina\",\n",
        "    \"India\": \"Asia Meridional\", \"Emiratos Árabes\": \"Asia Occidental\",\n",
        "    \"Argentina\": \"América Latina\", \"España\": \"Europa\"\n",
        "}\n",
        "\n",
        "@udf(StringType())\n",
        "def region_de(pais):\n",
        "    if pais is None:\n",
        "        return None\n",
        "    return region_map.get(pais, \"Otra/No especificada\")\n",
        "\n",
        "# Rename the column in the DataFrame before creating the view\n",
        "df_reg = df.withColumnRenamed(\"Razón\", \"Razon\").withColumn(\"Region_Destino\", region_de(F.col(\"Destino\")))\n",
        "df_reg.createOrReplaceTempView(\"migraciones_region\")\n",
        "\n",
        "sql_razon_region = spark.sql('''\n",
        "SELECT Region_Destino, Razon, COUNT(*) AS Frecuencia\n",
        "FROM migraciones_region\n",
        "GROUP BY Region_Destino, Razon\n",
        "ORDER BY Region_Destino, Frecuencia DESC\n",
        "''')\n",
        "sql_razon_region.show(truncate=False)"
      ],
      "metadata": {
        "colab": {
          "base_uri": "https://localhost:8080/"
        },
        "id": "UzRLrO-TEWRi",
        "outputId": "d4f80216-c5ca-4a92-988c-4530a39ffe8f"
      },
      "execution_count": null,
      "outputs": [
        {
          "output_type": "stream",
          "name": "stdout",
          "text": [
            "+---------+-----------+\n",
            "|Origen   |Migraciones|\n",
            "+---------+-----------+\n",
            "|Argentina|1          |\n",
            "|Siria    |1          |\n",
            "|India    |1          |\n",
            "|Venezuela|1          |\n",
            "|México   |1          |\n",
            "+---------+-----------+\n",
            "\n",
            "+---------------+-----------+\n",
            "|Destino        |Migraciones|\n",
            "+---------------+-----------+\n",
            "|España         |1          |\n",
            "|Emiratos Árabes|1          |\n",
            "|Alemania       |1          |\n",
            "|EEUU           |1          |\n",
            "|Colombia       |1          |\n",
            "+---------------+-----------+\n",
            "\n",
            "+---------------+---------+----------+\n",
            "|Region_Destino |Razon    |Frecuencia|\n",
            "+---------------+---------+----------+\n",
            "|América Latina |Política |1         |\n",
            "|Asia Occidental|Laboral  |1         |\n",
            "|Europa         |Económica|1         |\n",
            "|Europa         |Conflicto|1         |\n",
            "|Norteamérica   |Económica|1         |\n",
            "+---------------+---------+----------+\n",
            "\n"
          ]
        }
      ]
    },
    {
      "cell_type": "code",
      "source": [
        "# === 4) MLlib: Regresión Logística para probabilidad de razón económica ===\n",
        "# Label binaria: 1 si Razón == 'Económica', 0 si no.\n",
        "from pyspark.ml.feature import StringIndexer, VectorAssembler, StandardScaler\n",
        "from pyspark.ml.classification import LogisticRegression\n",
        "from pyspark.ml import Pipeline\n",
        "from pyspark.ml.evaluation import BinaryClassificationEvaluator, MulticlassClassificationEvaluator\n",
        "from pyspark.sql import functions as F\n",
        "\n",
        "df_ml = df.select(\n",
        "    \"Razón\", \"PIB_Origen\", \"PIB_Destino\", \"Tasa_Desempleo_Origen\", \"Tasa_Desempleo_Destino\",\n",
        "    \"Nivel_Educativo_Origen\", \"Nivel_Educativo_Destino\", \"Población_Origen\", \"Población_Destino\"\n",
        ").dropna()\n",
        "\n",
        "# Create a binary label: 1 if Razón is 'Económica', 0 otherwise\n",
        "df_ml = df_ml.withColumn(\"label_bin\", F.when(F.col(\"Razón\") == \"Económica\", 1.0).otherwise(0.0))\n",
        "\n",
        "features = [\"PIB_Origen\", \"PIB_Destino\", \"Tasa_Desempleo_Origen\", \"Tasa_Desempleo_Destino\",\n",
        "            \"Nivel_Educativo_Origen\", \"Nivel_Educativo_Destino\", \"Población_Origen\", \"Población_Destino\"]\n",
        "assembler = VectorAssembler(inputCols=features, outputCol=\"features_raw\")\n",
        "scaler = StandardScaler(inputCol=\"features_raw\", outputCol=\"features\", withStd=True, withMean=True)\n",
        "\n",
        "lr = LogisticRegression(featuresCol=\"features\", labelCol=\"label_bin\", maxIter=100, regParam=0.01, elasticNetParam=0.0)\n",
        "\n",
        "# Remove StringIndexer from the pipeline as we created the binary label manually\n",
        "pipeline = Pipeline(stages=[assembler, scaler, lr])\n",
        "\n",
        "train, test = df_ml.randomSplit([0.8, 0.2], seed=42)\n",
        "model = pipeline.fit(train)\n",
        "pred = model.transform(test)\n",
        "\n",
        "evaluator_roc = BinaryClassificationEvaluator(rawPredictionCol=\"rawPrediction\", labelCol=\"label_bin\", metricName=\"areaUnderROC\")\n",
        "evaluator_acc = MulticlassClassificationEvaluator(labelCol=\"label_bin\", predictionCol=\"prediction\", metricName=\"accuracy\")\n",
        "\n",
        "auc = evaluator_roc.evaluate(pred)\n",
        "acc = evaluator_acc.evaluate(pred)\n",
        "\n",
        "print(f\"AUC: {auc:.3f} | Accuracy: {acc:.3f}\")\n",
        "pred.select(\"label_bin\", \"probability\", \"prediction\").show(10, truncate=False)"
      ],
      "metadata": {
        "colab": {
          "base_uri": "https://localhost:8080/"
        },
        "id": "xtAVdE58EZGN",
        "outputId": "60068960-2d91-4377-b4d8-f62d4e120200"
      },
      "execution_count": null,
      "outputs": [
        {
          "output_type": "stream",
          "name": "stdout",
          "text": [
            "AUC: 1.000 | Accuracy: 0.000\n",
            "+---------+---------------------------------------+----------+\n",
            "|label_bin|probability                            |prediction|\n",
            "+---------+---------------------------------------+----------+\n",
            "|1.0      |[0.7842112265359532,0.2157887734640468]|0.0       |\n",
            "+---------+---------------------------------------+----------+\n",
            "\n"
          ]
        }
      ]
    },
    {
      "cell_type": "code",
      "source": [
        "# === 5) Guardado de artefactos y reflexiones ===\n",
        "# Guardar vistas de SQL en Parquet también\n",
        "out_dir_sql = \"salidas_sql\"\n",
        "(sql_origen.write.mode(\"overwrite\").parquet(f\"{out_dir_sql}/top_origen.parquet\"))\n",
        "(sql_destino.write.mode(\"overwrite\").parquet(f\"{out_dir_sql}/top_destino.parquet\"))\n",
        "(sql_razon_region.write.mode(\"overwrite\").parquet(f\"{out_dir_sql}/razon_por_region.parquet\"))\n",
        "\n",
        "# Plantilla de reflexiones\n",
        "reflexiones = \"\"\"Reflexiones analíticas – Migraciones (borrador)\n",
        "\n",
        "1) Hallazgos principales:\n",
        "   - Top orígenes, top destinos, razones predominantes por región/destino.\n",
        "\n",
        "2) Interpretación socioeconómica:\n",
        "   - Cómo se relacionan PIB, desempleo y niveles educativos con la razón económica.\n",
        "\n",
        "3) Modelo MLlib (Regresión Logística):\n",
        "   - AUC: ____  |  Accuracy: ____\n",
        "   - Variables que más impactaron (comente según coeficientes del modelo y sentido común).\n",
        "\n",
        "4) Limitaciones y mejoras:\n",
        "   - Calidad/ausencia de 'Región', más features (conflictos, políticas migratorias), ventanas temporales, tuning y validación cruzada.\n",
        "\"\"\"\n",
        "\n",
        "with open(\"reflexiones_migraciones.txt\", \"w\", encoding=\"utf-8\") as f:\n",
        "    f.write(reflexiones)\n",
        "\n",
        "print(\"Archivos escritos:\")\n",
        "print(\" - salidas_parquet/* (agregaciones)\")\n",
        "print(\" - salidas_sql/* (consultas SQL)\")\n",
        "print(\" - reflexiones_migraciones.txt\")"
      ],
      "metadata": {
        "colab": {
          "base_uri": "https://localhost:8080/"
        },
        "id": "1LAIgG55EqbS",
        "outputId": "06604b82-98f9-4843-855d-8d6a037818f3"
      },
      "execution_count": null,
      "outputs": [
        {
          "output_type": "stream",
          "name": "stdout",
          "text": [
            "Archivos escritos:\n",
            " - salidas_parquet/* (agregaciones)\n",
            " - salidas_sql/* (consultas SQL)\n",
            " - reflexiones_migraciones.txt\n"
          ]
        }
      ]
    }
  ]
}